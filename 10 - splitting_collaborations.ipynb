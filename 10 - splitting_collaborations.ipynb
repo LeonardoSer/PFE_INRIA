{
 "cells": [
  {
   "cell_type": "code",
   "execution_count": 35,
   "id": "43e8c08f-de5d-4821-afe9-b4b3b8dd089b",
   "metadata": {},
   "outputs": [],
   "source": [
    "import itertools\n",
    "import random\n",
    "import json\n",
    "import numpy as np\n",
    "import matplotlib.pyplot as plt\n",
    "import pandas as pd\n",
    "from pathlib import Path \n",
    "import sys\n",
    "import threading\n",
    "import os\n",
    "from IPython.display import clear_output"
   ]
  },
  {
   "cell_type": "code",
   "execution_count": 154,
   "id": "8dd685c3-895d-4450-9885-8be661b911c0",
   "metadata": {
    "tags": []
   },
   "outputs": [],
   "source": [
    "## Find the starting collaboration year for each author\n",
    "def get_start_Y(aut):\n",
    "    YEARS = [str(year) for year in range(1990,2019)]    \n",
    "    for y in YEARS:\n",
    "        val = aut[y].values[0]\n",
    "        if(val != 0):\n",
    "            return y\n",
    "        \n",
    "# add starting collaboration year to each row of the dataset\n",
    "def add_start_y(df):\n",
    "    df[\"start_year\"] = [0 for i in range(len(df))]\n",
    "    i = 0\n",
    "    for id in df[\"ID\"]:\n",
    "        \n",
    "        if(i%500 == 0):\n",
    "            print(\"done\", i, \"on\", len(df), end='\\r')\n",
    "        i+=1\n",
    "        \n",
    "        aut = df.loc[df[\"ID\"] == id]\n",
    "        df.loc[df.ID == id, \"start_year\"] = get_start_Y(aut)\n",
    "    return df\n",
    "\n",
    "# build a df for each possible starting year\n",
    "def split_by_y(df):\n",
    "    splitted = []\n",
    "    YEARS = [str(year) for year in range(1990,2019)]    \n",
    "    for y in YEARS:\n",
    "        tmp_df = df.loc[df.start_year == y]\n",
    "        tmp_df = tmp_df.drop(columns=[x for i,x in enumerate(YEARS) if int(x)<int(y)] )\n",
    "        \n",
    "        splitted.append(tmp_df)\n",
    "    return splitted"
   ]
  },
  {
   "cell_type": "code",
   "execution_count": 159,
   "id": "8b13ee1f-846a-4f90-be23-387c0215019b",
   "metadata": {
    "tags": []
   },
   "outputs": [
    {
     "name": "stdout",
     "output_type": "stream",
     "text": [
      "================================================= \u001b[1mHOLE SIZE 0\u001b[0m ==================================================\n",
      "================================================= \u001b[1mHOLE SIZE 1\u001b[0m ==================================================\n",
      "================================================= \u001b[1mHOLE SIZE 2\u001b[0m ==================================================\n",
      "================================================= \u001b[1mHOLE SIZE 3\u001b[0m ==================================================\n",
      "================================================= \u001b[1mHOLE SIZE 4\u001b[0m ==================================================\n",
      "================================================= \u001b[1mHOLE SIZE 5\u001b[0m ==================================================\n",
      "================================================= \u001b[1mHOLE SIZE 6\u001b[0m ==================================================\n",
      "================================================= \u001b[1mHOLE SIZE 7\u001b[0m ==================================================\n",
      "================================================= \u001b[1mHOLE SIZE 8\u001b[0m ==================================================\n",
      "================================================= \u001b[1mHOLE SIZE 9\u001b[0m ==================================================\n",
      "================================================= \u001b[1mHOLE SIZE 10\u001b[0m =================================================\n",
      "================================================= \u001b[1mHOLE SIZE 11\u001b[0m =================================================\n",
      "================================================= \u001b[1mHOLE SIZE 12\u001b[0m =================================================\n",
      "================================================= \u001b[1mHOLE SIZE 13\u001b[0m =================================================\n",
      "================================================= \u001b[1mHOLE SIZE 14\u001b[0m =================================================\n",
      "================================================= \u001b[1mHOLE SIZE 15\u001b[0m =================================================\n",
      "================================================= \u001b[1mHOLE SIZE 16\u001b[0m =================================================\n",
      "================================================= \u001b[1mHOLE SIZE 17\u001b[0m =================================================\n",
      "================================================= \u001b[1mHOLE SIZE 18\u001b[0m =================================================\n",
      "================================================= \u001b[1mHOLE SIZE 19\u001b[0m =================================================\n",
      "================================================= \u001b[1mHOLE SIZE 20\u001b[0m =================================================\n",
      "================================================= \u001b[1mHOLE SIZE 21\u001b[0m =================================================\n",
      "================================================= \u001b[1mHOLE SIZE 22\u001b[0m =================================================\n",
      "================================================= \u001b[1mHOLE SIZE 23\u001b[0m =================================================\n",
      "================================================= \u001b[1mHOLE SIZE 24\u001b[0m =================================================\n",
      "================================================= \u001b[1mHOLE SIZE 25\u001b[0m =================================================\n",
      "================================================= \u001b[1mHOLE SIZE 26\u001b[0m =================================================\n",
      "================================================= \u001b[1mHOLE SIZE 27\u001b[0m =================================================\n",
      "================================================= \u001b[1mHOLE SIZE 28\u001b[0m =================================================\n",
      "done 230000 on 230234\r"
     ]
    }
   ],
   "source": [
    "min_size = 0\n",
    "max_size = 28\n",
    "YEARS = [str(year) for year in range(1990,2019)]  \n",
    "\n",
    "# Read active authors by hole lenght\n",
    "for size in range(min_size, max_size+1):\n",
    "    print((' \\033[1m' + \"HOLE SIZE \"+str(size) + '\\033[0m ').center(120, '='))\n",
    "    path = 'myDATA/05-filtered_by_hole_size/filtered_by_hole_size_'+str(size)+'.csv'\n",
    "    \n",
    "    if not os.path.exists('myDATA/10-splitted_by_hole_size_'+str(size)):\n",
    "        os.mkdir('myDATA/10-splitted_by_hole_size_'+str(size))\n",
    "    \n",
    "    if os.path.exists(path):\n",
    "        \n",
    "        df = pd.read_csv(path)\n",
    "        df = add_start_y(df)\n",
    "        \n",
    "        # split the df by starting year\n",
    "        splitted = split_by_y(df)\n",
    "        \n",
    "        for i in range(len(YEARS)):\n",
    "            y = YEARS[i]\n",
    "            file = 'myDATA/10-splitted_by_hole_size_'+str(size)+'/collabs_by_year_'+y+'.csv'\n",
    "            \n",
    "            # write a .csv for each year Y with all authors that started collaborating in Y.\n",
    "             # it contains their collaborations form Y until 2018\n",
    "            df_y = splitted[i]\n",
    "            df_y.to_csv(file, index=False)\n"
   ]
  },
  {
   "cell_type": "code",
   "execution_count": null,
   "id": "7cb8989c-8f60-47d7-8c68-6214b377490b",
   "metadata": {},
   "outputs": [],
   "source": []
  }
 ],
 "metadata": {
  "kernelspec": {
   "display_name": "Python 3",
   "language": "python",
   "name": "python3"
  },
  "language_info": {
   "codemirror_mode": {
    "name": "ipython",
    "version": 3
   },
   "file_extension": ".py",
   "mimetype": "text/x-python",
   "name": "python",
   "nbconvert_exporter": "python",
   "pygments_lexer": "ipython3",
   "version": "3.8.10"
  }
 },
 "nbformat": 4,
 "nbformat_minor": 5
}
