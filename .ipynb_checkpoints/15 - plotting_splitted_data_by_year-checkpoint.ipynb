{
 "cells": [
  {
   "cell_type": "code",
   "execution_count": 1,
   "id": "ad13af1d-fb55-4695-8dad-ead363e2e368",
   "metadata": {},
   "outputs": [],
   "source": [
    "import itertools\n",
    "import random\n",
    "import json\n",
    "import matplotlib.pyplot as plt\n",
    "import os\n",
    "import pandas as pd\n",
    "from pathlib import Path \n",
    "import sys\n",
    "pd.options.mode.chained_assignment = None  # default='warn'"
   ]
  },
  {
   "cell_type": "code",
   "execution_count": 2,
   "id": "978557e7-836b-4895-9a27-a2a27d7d00ac",
   "metadata": {},
   "outputs": [],
   "source": [
    "#Simply plot degree trajectories contained in a given dataframe\n",
    "def plot_df(df, year, kind_of_authors, hole_length):\n",
    "    legend = []\n",
    "    plt.figure(figsize=(20, 8), dpi=80)\n",
    "    plt.xlabel(\"year\")\n",
    "    plt.ylabel(\"num_Collaborations\")\n",
    "    plt.title(\"# vertex trajectories for top 100 \" + kind_of_authors + \" authors who started in: \"+ year + \" with hole of size \"+str(hole_length)+\"\\n\", fontdict = {'fontsize' : 12})\n",
    "    \n",
    "    df = df.nlargest(100, \"2018\")\n",
    "    for id in df[\"ID\"]:\n",
    "        \n",
    "        aut = df.loc[df[\"ID\"] == id]\n",
    "        legend.append(\"aut \" + str(id)+\" -> max \"+str(aut[\"2018\"].values[0]))\n",
    "\n",
    "        x,y=[],[]\n",
    "        for i in aut:\n",
    "            if(i!=\"ID\"):\n",
    "                x.append(i)\n",
    "                y.append(aut.iloc[0][i])\n",
    "\n",
    "\n",
    "        plt.xticks(rotation='vertical')\n",
    "        if(year==\"2018\"):\n",
    "            plt.scatter(x,y)\n",
    "        else:\n",
    "            plt.plot(x, y)\n",
    "    \n",
    "    plt.legend(legend,loc='upper center', bbox_to_anchor=(0.5, -0.2),\n",
    "          fancybox=True, shadow=True, ncol=5)\n",
    "    \n",
    "    path = 'myDATA/10-splitted_by_year/'+str(size)+'_hole_size_splitted/trajectories_plt'\n",
    "    if not os.path.exists(path):\n",
    "        os.mkdir(path)\n",
    "    file = 'myDATA/10-splitted_by_year/'+str(size)+'_hole_size_splitted/trajectories_plt/'+year+'_holeSize_'+str(hole_length)+'.png'\n",
    "    \n",
    "    if not os.path.exists(file):\n",
    "        plt.savefig(file)\n",
    "    plt.show()"
   ]
  },
  {
   "cell_type": "code",
   "execution_count": 3,
   "id": "310b8851-b812-4b36-a7bb-03e206d2be39",
   "metadata": {
    "tags": []
   },
   "outputs": [],
   "source": [
    "## Read all datasets for every hole size, splitted by starting year, and plot them\n",
    "YEARS = [str(year) for year in range(1990,2019)]\n",
    "min_size = 0\n",
    "max_size = 28"
   ]
  },
  {
   "cell_type": "code",
   "execution_count": null,
   "id": "b93d7996-1b17-4f5a-927d-95971ec646f4",
   "metadata": {
    "tags": []
   },
   "outputs": [],
   "source": [
    "# Read active authors by hole lenght (Top 100 Authors)\n",
    "for size in range(min_size, max_size+1):\n",
    "    print((' \\033[1m' + \"HOLE SIZE \"+str(size) + '\\033[0m ').center(120, '='))\n",
    "    path = 'myDATA/10-splitted_by_year/'+str(size)+'_hole_size_splitted'\n",
    "    if(os.path.exists(path)):\n",
    "        for y in YEARS:\n",
    "            file=path+'/'+y+'_collabs_by_starting_year.csv'\n",
    "            if(os.path.exists(file)):\n",
    "                df_y = pd.read_csv(file)\n",
    "                if(len(df_y)>0):\n",
    "                    plot_df(df_y, y, \"active\", size)"
   ]
  },
  {
   "cell_type": "code",
   "execution_count": null,
   "id": "1baa858a-c9c5-4c3e-b6d6-7f0f894867db",
   "metadata": {},
   "outputs": [],
   "source": []
  }
 ],
 "metadata": {
  "kernelspec": {
   "display_name": "Python 3",
   "language": "python",
   "name": "python3"
  },
  "language_info": {
   "codemirror_mode": {
    "name": "ipython",
    "version": 3
   },
   "file_extension": ".py",
   "mimetype": "text/x-python",
   "name": "python",
   "nbconvert_exporter": "python",
   "pygments_lexer": "ipython3",
   "version": "3.8.10"
  }
 },
 "nbformat": 4,
 "nbformat_minor": 5
}
