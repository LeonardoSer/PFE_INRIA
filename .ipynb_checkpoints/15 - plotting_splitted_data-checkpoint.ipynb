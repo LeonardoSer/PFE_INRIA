{
 "cells": [
  {
   "cell_type": "code",
   "execution_count": 7,
   "id": "ad13af1d-fb55-4695-8dad-ead363e2e368",
   "metadata": {},
   "outputs": [],
   "source": [
    "import itertools\n",
    "import random\n",
    "import json\n",
    "import matplotlib.pyplot as plt\n",
    "import pandas as pd\n",
    "from pathlib import Path \n",
    "import sys\n",
    "pd.options.mode.chained_assignment = None  # default='warn'"
   ]
  },
  {
   "cell_type": "code",
   "execution_count": null,
   "id": "978557e7-836b-4895-9a27-a2a27d7d00ac",
   "metadata": {},
   "outputs": [],
   "source": [
    "#Simply plot degree trajectories contained in a given dataframe\n",
    "def plot_df(df, year, kind_of_authors):\n",
    "    \n",
    "    legend = []\n",
    "    plt.figure(figsize=(8, 6), dpi=80)\n",
    "    plt.xlabel(\"year\")\n",
    "    plt.ylabel(\"num_Collaborations\")\n",
    "    plt.title(\"# vertex trajectories for \" + kind_of_authors + \" authors who started in: \"+ year + \"\\n\", fontdict = {'fontsize' : 20})\n",
    "    \n",
    "    for id in df[\"ID\"]:\n",
    "\n",
    "        legend.append(id)\n",
    "        aut = df.loc[df[\"ID\"] == id]\n",
    "\n",
    "        x,y=[],[]\n",
    "        for i in aut:\n",
    "            if(i!=\"ID\"):\n",
    "                x.append(i)\n",
    "                y.append(aut.iloc[0][i])\n",
    "\n",
    "\n",
    "        plt.xticks(rotation='vertical')\n",
    "        if(year==\"2018\"):\n",
    "            plt.scatter(x,y)\n",
    "        else:\n",
    "            plt.plot(x, y)\n",
    "    \n",
    "    plt.legend(legend,loc='upper center', bbox_to_anchor=(0.5, -0.2),\n",
    "          fancybox=True, shadow=True, ncol=5)\n",
    "    plt.show()"
   ]
  },
  {
   "cell_type": "code",
   "execution_count": null,
   "id": "310b8851-b812-4b36-a7bb-03e206d2be39",
   "metadata": {
    "tags": []
   },
   "outputs": [],
   "source": [
    "## Read all datasets for every hole size, splitted by starting year, and plot them\n",
    "YEARS = [str(year) for year in range(1990,2019)]\n",
    "min_size = 0\n",
    "max_size = 0\n",
    "\n",
    "# Read active authors by hole lenght\n",
    "for size in range(min_size, max_size+1):\n",
    "    path = 'myDATA/10-splitted_by_hole_size_'+str(size)\n",
    "    for y in YEARS:\n",
    "        df_y = pd.read_csv(path+'/collabs_by_year_'+y+'.csv')\n",
    "        plot_df(df_y, y, \"active\")"
   ]
  },
  {
   "cell_type": "code",
   "execution_count": null,
   "id": "f57ae8e2-a641-4fea-92ec-a3d39e0170f5",
   "metadata": {},
   "outputs": [],
   "source": []
  }
 ],
 "metadata": {
  "kernelspec": {
   "display_name": "Python 3",
   "language": "python",
   "name": "python3"
  },
  "language_info": {
   "codemirror_mode": {
    "name": "ipython",
    "version": 3
   },
   "file_extension": ".py",
   "mimetype": "text/x-python",
   "name": "python",
   "nbconvert_exporter": "python",
   "pygments_lexer": "ipython3",
   "version": "3.8.10"
  }
 },
 "nbformat": 4,
 "nbformat_minor": 5
}
