{
 "cells": [
  {
   "cell_type": "code",
   "execution_count": 1,
   "id": "11ea2d7d-9fb1-4710-bd29-5895167932ea",
   "metadata": {},
   "outputs": [],
   "source": [
    "import itertools\n",
    "import random\n",
    "import json\n",
    "import matplotlib.pyplot as plt\n",
    "import pandas as pd\n",
    "from pathlib import Path \n",
    "import sys\n",
    "pd.options.mode.chained_assignment = None  # default='warn'\n",
    "import os\n",
    "import logging\n",
    "import threading\n",
    "import time"
   ]
  },
  {
   "cell_type": "code",
   "execution_count": 3,
   "id": "92ab4162-356b-4b22-ba21-07930d074544",
   "metadata": {},
   "outputs": [],
   "source": [
    "YEARS = [str(y) for y in range(1990,2019)]\n",
    "df_path = 'myDATA/01- france_collaboration_df.csv'\n",
    "all_jsons = [('Data/COMP/' + 'COMP-'+year+'.json') for year in YEARS] \n"
   ]
  },
  {
   "cell_type": "code",
   "execution_count": 4,
   "id": "7dfb7905-65ea-4200-8608-f1e192342863",
   "metadata": {},
   "outputs": [
    {
     "data": {
      "text/plain": [
       "['Data/COMP/COMP-1990.json',\n",
       " 'Data/COMP/COMP-1991.json',\n",
       " 'Data/COMP/COMP-1992.json',\n",
       " 'Data/COMP/COMP-1993.json',\n",
       " 'Data/COMP/COMP-1994.json',\n",
       " 'Data/COMP/COMP-1995.json',\n",
       " 'Data/COMP/COMP-1996.json',\n",
       " 'Data/COMP/COMP-1997.json',\n",
       " 'Data/COMP/COMP-1998.json',\n",
       " 'Data/COMP/COMP-1999.json',\n",
       " 'Data/COMP/COMP-2000.json',\n",
       " 'Data/COMP/COMP-2001.json',\n",
       " 'Data/COMP/COMP-2002.json',\n",
       " 'Data/COMP/COMP-2003.json',\n",
       " 'Data/COMP/COMP-2004.json',\n",
       " 'Data/COMP/COMP-2005.json',\n",
       " 'Data/COMP/COMP-2006.json',\n",
       " 'Data/COMP/COMP-2007.json',\n",
       " 'Data/COMP/COMP-2008.json',\n",
       " 'Data/COMP/COMP-2009.json',\n",
       " 'Data/COMP/COMP-2010.json',\n",
       " 'Data/COMP/COMP-2011.json',\n",
       " 'Data/COMP/COMP-2012.json',\n",
       " 'Data/COMP/COMP-2013.json',\n",
       " 'Data/COMP/COMP-2014.json',\n",
       " 'Data/COMP/COMP-2015.json',\n",
       " 'Data/COMP/COMP-2016.json',\n",
       " 'Data/COMP/COMP-2017.json',\n",
       " 'Data/COMP/COMP-2018.json']"
      ]
     },
     "execution_count": 4,
     "metadata": {},
     "output_type": "execute_result"
    }
   ],
   "source": [
    "for file in all_json "
   ]
  },
  {
   "cell_type": "code",
   "execution_count": null,
   "id": "2510e782-8f91-48fa-a8d3-e08994cdcc7b",
   "metadata": {},
   "outputs": [],
   "source": []
  }
 ],
 "metadata": {
  "kernelspec": {
   "display_name": "Python 3",
   "language": "python",
   "name": "python3"
  },
  "language_info": {
   "codemirror_mode": {
    "name": "ipython",
    "version": 3
   },
   "file_extension": ".py",
   "mimetype": "text/x-python",
   "name": "python",
   "nbconvert_exporter": "python",
   "pygments_lexer": "ipython3",
   "version": "3.8.10"
  }
 },
 "nbformat": 4,
 "nbformat_minor": 5
}
