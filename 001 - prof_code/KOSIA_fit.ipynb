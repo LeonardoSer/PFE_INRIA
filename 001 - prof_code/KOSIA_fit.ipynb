{
 "cells": [
  {
   "cell_type": "markdown",
   "metadata": {
    "pycharm": {
     "name": "#%% md\n"
    }
   },
   "source": [
    "# How to Fit\n",
    "\n",
    "Use the `powerlaw` library."
   ]
  },
  {
   "cell_type": "code",
   "execution_count": 4,
   "metadata": {
    "collapsed": false,
    "jupyter": {
     "outputs_hidden": false
    },
    "pycharm": {
     "name": "#%%\n"
    }
   },
   "outputs": [
    {
     "name": "stdout",
     "output_type": "stream",
     "text": [
      "Requirement already satisfied: powerlaw in d:\\projects\\example\\venv\\lib\\site-packages (1.4.6)\n",
      "Requirement already satisfied: mpmath in d:\\projects\\example\\venv\\lib\\site-packages (from powerlaw) (1.2.1)\n",
      "Requirement already satisfied: numpy in d:\\projects\\example\\venv\\lib\\site-packages (from powerlaw) (1.21.1)\n",
      "Requirement already satisfied: matplotlib in d:\\projects\\example\\venv\\lib\\site-packages (from powerlaw) (3.4.2)\n",
      "Requirement already satisfied: scipy in d:\\projects\\example\\venv\\lib\\site-packages (from powerlaw) (1.7.1)\n",
      "Requirement already satisfied: kiwisolver>=1.0.1 in d:\\projects\\example\\venv\\lib\\site-packages (from matplotlib->powerlaw) (1.3.1)\n",
      "Requirement already satisfied: python-dateutil>=2.7 in d:\\projects\\example\\venv\\lib\\site-packages (from matplotlib->powerlaw) (2.8.2)\n",
      "Requirement already satisfied: pyparsing>=2.2.1 in d:\\projects\\example\\venv\\lib\\site-packages (from matplotlib->powerlaw) (2.4.7)\n",
      "Requirement already satisfied: cycler>=0.10 in d:\\projects\\example\\venv\\lib\\site-packages (from matplotlib->powerlaw) (0.10.0)\n",
      "Requirement already satisfied: pillow>=6.2.0 in d:\\projects\\example\\venv\\lib\\site-packages (from matplotlib->powerlaw) (8.3.1)\n",
      "Requirement already satisfied: six in d:\\projects\\example\\venv\\lib\\site-packages (from cycler>=0.10->matplotlib->powerlaw) (1.16.0)\n"
     ]
    },
    {
     "name": "stderr",
     "output_type": "stream",
     "text": [
      "WARNING: You are using pip version 21.1.2; however, version 21.2.2 is available.\n",
      "You should consider upgrading via the 'D:\\Projects\\example\\venv\\Scripts\\python.exe -m pip install --upgrade pip' command.\n"
     ]
    }
   ],
   "source": [
    "!pip install powerlaw"
   ]
  },
  {
   "cell_type": "code",
   "execution_count": 5,
   "metadata": {
    "collapsed": false,
    "jupyter": {
     "outputs_hidden": false
    },
    "pycharm": {
     "name": "#%%\n"
    }
   },
   "outputs": [
    {
     "name": "stdout",
     "output_type": "stream",
     "text": [
      "Requirement already satisfied: matplotlib in d:\\projects\\example\\venv\\lib\\site-packages (3.4.2)\n",
      "Requirement already satisfied: kiwisolver>=1.0.1 in d:\\projects\\example\\venv\\lib\\site-packages (from matplotlib) (1.3.1)\n",
      "Requirement already satisfied: pillow>=6.2.0 in d:\\projects\\example\\venv\\lib\\site-packages (from matplotlib) (8.3.1)\n",
      "Requirement already satisfied: pyparsing>=2.2.1 in d:\\projects\\example\\venv\\lib\\site-packages (from matplotlib) (2.4.7)\n",
      "Requirement already satisfied: python-dateutil>=2.7 in d:\\projects\\example\\venv\\lib\\site-packages (from matplotlib) (2.8.2)\n",
      "Requirement already satisfied: cycler>=0.10 in d:\\projects\\example\\venv\\lib\\site-packages (from matplotlib) (0.10.0)\n",
      "Requirement already satisfied: numpy>=1.16 in d:\\projects\\example\\venv\\lib\\site-packages (from matplotlib) (1.21.1)\n",
      "Requirement already satisfied: six in d:\\projects\\example\\venv\\lib\\site-packages (from cycler>=0.10->matplotlib) (1.16.0)\n"
     ]
    },
    {
     "name": "stderr",
     "output_type": "stream",
     "text": [
      "WARNING: You are using pip version 21.1.2; however, version 21.2.2 is available.\n",
      "You should consider upgrading via the 'D:\\Projects\\example\\venv\\Scripts\\python.exe -m pip install --upgrade pip' command.\n"
     ]
    }
   ],
   "source": [
    "!pip install matplotlib"
   ]
  },
  {
   "cell_type": "code",
   "execution_count": 6,
   "metadata": {
    "collapsed": false,
    "jupyter": {
     "outputs_hidden": false
    },
    "pycharm": {
     "name": "#%%\n"
    }
   },
   "outputs": [],
   "source": [
    "import powerlaw"
   ]
  },
  {
   "cell_type": "markdown",
   "metadata": {},
   "source": [
    "Use the `powerlaw.Fit` object to fit different distributions\n",
    "into empirical data.\n",
    "You need to provide a list of observed values that you want to fit a distribution to.\n",
    "\n",
    "As an example, we use a list of observed degrees of vertices that I obtained in a simulation."
   ]
  },
  {
   "cell_type": "code",
   "execution_count": 7,
   "metadata": {
    "collapsed": false,
    "jupyter": {
     "outputs_hidden": false
    },
    "pycharm": {
     "name": "#%%\n"
    }
   },
   "outputs": [
    {
     "name": "stderr",
     "output_type": "stream",
     "text": [
      "Calculating best minimal value for power law fit\n",
      "d:\\projects\\example\\venv\\lib\\site-packages\\powerlaw.py:699: RuntimeWarning: invalid value encountered in true_divide\n",
      "  (CDF_diff**2) /\n",
      "d:\\projects\\example\\venv\\lib\\site-packages\\powerlaw.py:699: RuntimeWarning: divide by zero encountered in true_divide\n",
      "  (CDF_diff**2) /\n"
     ]
    }
   ],
   "source": [
    "degrees = [28, 2, 11, 2, 16, 9, 9, 16, 7, 8, 12, 6, 5, 9, 7, 3, 2, 17, 13, 17, 19, 9, 4, 3, 3, 16, 3, 5, 24, 11, 9, 16, 11, 9, 6, 6, 5, 1, 1, 12, 1, 6, 5, 8, 48, 6, 6, 12, 4, 2, 1, 9, 12, 29, 14, 38, 3, 6, 2, 6, 13, 1, 40, 29, 13, 2, 22, 1, 2, 7, 3, 3, 3, 13, 20, 8, 3, 1, 20, 2, 16, 6, 7, 11, 23, 14, 8, 2, 2, 5, 6, 13, 12, 16, 17, 2, 11, 5, 22, 2, 2, 14, 5, 8, 5, 6, 17, 2, 7, 3, 3, 3, 5, 1, 17, 20, 45, 14, 17, 31, 8, 20, 7, 23, 5, 6, 1, 3, 9, 7, 10, 5, 6, 10, 2, 22, 3, 5, 11, 8, 1, 10, 1, 4, 1, 21, 2, 3, 17, 33, 1, 5, 10, 6, 14, 3, 21, 10, 7, 6, 2, 33, 3, 2, 37, 17, 2, 2, 5, 2, 8, 13, 7, 37, 7, 3, 2, 2, 2, 2, 8, 1, 4, 7, 2, 3, 22, 4, 12, 26, 24, 6, 17, 3, 7, 4, 1, 18, 24, 9, 7, 2, 25, 1, 4, 1, 2, 1, 10, 8, 1, 6, 4, 2, 1, 3, 8, 19, 6, 12, 1, 1, 8, 3, 9, 1, 2, 3, 10, 1, 1, 1, 9, 14, 2, 8, 1, 8, 1, 14, 3, 1, 12, 4, 3, 1, 4, 6, 7, 1, 1, 4, 1, 8, 5, 1, 7, 9, 2, 5, 1, 4, 1, 1, 1, 1, 2, 1, 1, 1, 2, 1, 1, 1, 1, 2, 1, 1, 1, 1, 2, 1, 1, 1, 2, 1, 1, 1, 2, 1, 1, 1]\n",
    "\n",
    "fit = powerlaw.Fit(degrees, discrete=True)"
   ]
  },
  {
   "cell_type": "markdown",
   "metadata": {
    "pycharm": {
     "name": "#%% md\n"
    }
   },
   "source": [
    "The `powerlaw.Fit` class basically does the whole job.\n",
    "Now, in order compare different distributions, we can use\n",
    "- `fit.power_law`,\n",
    "- `fit.truncated_power_law`,\n",
    "- `fit.exponential`,\n",
    "- etc.\n",
    "\n",
    "All of the above attributes return a `Distribution` object that represents the corresponding fitted distribution,\n",
    "which allows you to plot the PDF/CDF/CCDF of the distribution.\n",
    "\n",
    "`powerlaw.Fit` tries to fit different theoretical distributions starting from some `xmin` value,\n",
    "so we will need to consider only those empirical values that are `>= fit.xmin`."
   ]
  },
  {
   "cell_type": "code",
   "execution_count": 8,
   "metadata": {
    "collapsed": false,
    "jupyter": {
     "outputs_hidden": false
    },
    "pycharm": {
     "name": "#%%\n"
    }
   },
   "outputs": [],
   "source": [
    "from collections import Counter\n",
    "\n",
    "# Count how many times each degree appears (we only consider `degree >= fit.xmin`).\n",
    "distribution = Counter([degree for degree in degrees if degree >= fit.xmin])\n",
    "\n",
    "# Normalize the distribution.\n",
    "distribution = {x: y / sum(distribution.values()) for x, y in distribution.items()}"
   ]
  },
  {
   "cell_type": "code",
   "execution_count": 9,
   "metadata": {
    "collapsed": false,
    "jupyter": {
     "outputs_hidden": false
    },
    "pycharm": {
     "name": "#%%\n"
    }
   },
   "outputs": [
    {
     "name": "stderr",
     "output_type": "stream",
     "text": [
      "d:\\projects\\example\\venv\\lib\\site-packages\\powerlaw.py:699: RuntimeWarning: invalid value encountered in true_divide\n",
      "  (CDF_diff**2) /\n",
      "d:\\projects\\example\\venv\\lib\\site-packages\\powerlaw.py:699: RuntimeWarning: invalid value encountered in true_divide\n",
      "  (CDF_diff**2) /\n"
     ]
    },
    {
     "data": {
      "text/plain": [
       "<AxesSubplot:>"
      ]
     },
     "execution_count": 9,
     "metadata": {},
     "output_type": "execute_result"
    },
    {
     "data": {
      "image/png": "[encoded data removed]",
      "text/plain": [
       "<Figure size 432x288 with 1 Axes>"
      ]
     },
     "metadata": {
      "needs_background": "light"
     },
     "output_type": "display_data"
    }
   ],
   "source": [
    "import matplotlib.pyplot as plt\n",
    "\n",
    "# Plot the observed empirical distribution.\n",
    "plt.scatter(distribution.keys(), distribution.values(), color='g')\n",
    "\n",
    "# Plot the fitted power-law distribution.\n",
    "fit.power_law.plot_pdf()\n",
    "# Plot the fitted power-law distribution with an exponential cutoff.\n",
    "fit.truncated_power_law.plot_pdf()\n"
   ]
  }
 ],
 "metadata": {
  "kernelspec": {
   "display_name": "Python 3",
   "language": "python",
   "name": "python3"
  },
  "language_info": {
   "codemirror_mode": {
    "name": "ipython",
    "version": 3
   },
   "file_extension": ".py",
   "mimetype": "text/x-python",
   "name": "python",
   "nbconvert_exporter": "python",
   "pygments_lexer": "ipython3",
   "version": "3.8.10"
  }
 },
 "nbformat": 4,
 "nbformat_minor": 4
}
